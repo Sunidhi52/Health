{
 "cells": [
  {
   "cell_type": "code",
   "execution_count": 1,
   "id": "05a3bd35",
   "metadata": {},
   "outputs": [
    {
     "name": "stderr",
     "output_type": "stream",
     "text": [
      "C:\\Users\\sunid\\AppData\\Local\\Temp\\ipykernel_44160\\1230302489.py:15: DataConversionWarning: A column-vector y was passed when a 1d array was expected. Please change the shape of y to (n_samples,), for example using ravel().\n",
      "  model.fit(x_train,y_train)\n"
     ]
    },
    {
     "name": "stdout",
     "output_type": "stream",
     "text": [
      "0\n"
     ]
    },
    {
     "name": "stderr",
     "output_type": "stream",
     "text": [
      "C:\\Users\\sunid\\anaconda3\\Lib\\site-packages\\sklearn\\base.py:439: UserWarning: X does not have valid feature names, but RandomForestClassifier was fitted with feature names\n",
      "  warnings.warn(\n"
     ]
    }
   ],
   "source": [
    "import pandas as pd\n",
    "path=\"C:\\\\Users\\sunid\\\\Desktop\\\\hackathon project data set\\\\diabetes_prediction_dataset.csv\"\n",
    "data=pd.read_csv(path)\n",
    "data['smoking_history']=data['smoking_history'].map({'never':0,'No Info':1,'current':2,'former':3,'ever':4,'not current':5})\n",
    "data['gender']=data['gender'].map({'Female':0,'Male':1,'Other':2})\n",
    "inputs=data.drop('diabetes',axis=1)\n",
    "outputs=data.drop(['hypertension','gender','age','smoking_history','bmi','HbA1c_level','blood_glucose_level','heart_disease'],axis=1)\n",
    "\n",
    "import sklearn\n",
    "from sklearn.model_selection import train_test_split\n",
    "x_train,x_test,y_train,y_test=train_test_split(inputs,outputs,test_size=0.2)\n",
    "\n",
    "from sklearn.ensemble import RandomForestClassifier  #randomforest algorithm used\n",
    "model=RandomForestClassifier(n_estimators=200)\n",
    "model.fit(x_train,y_train)\n",
    "\n",
    "y_pred=model.predict(x_test)\n",
    "\n",
    "a=model.predict([[0,80.0,0,1,0,25.19,6.6,140]])\n",
    "print(a[0])"
   ]
  },
  {
   "cell_type": "code",
   "execution_count": null,
   "id": "e13a9e86",
   "metadata": {},
   "outputs": [],
   "source": []
  }
 ],
 "metadata": {
  "kernelspec": {
   "display_name": "Python 3 (ipykernel)",
   "language": "python",
   "name": "python3"
  },
  "language_info": {
   "codemirror_mode": {
    "name": "ipython",
    "version": 3
   },
   "file_extension": ".py",
   "mimetype": "text/x-python",
   "name": "python",
   "nbconvert_exporter": "python",
   "pygments_lexer": "ipython3",
   "version": "3.11.3"
  }
 },
 "nbformat": 4,
 "nbformat_minor": 5
}
