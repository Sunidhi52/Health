{
 "cells": [
  {
   "cell_type": "code",
   "execution_count": 1,
   "id": "b5fecc00",
   "metadata": {},
   "outputs": [
    {
     "name": "stderr",
     "output_type": "stream",
     "text": [
      "C:\\Users\\sunid\\AppData\\Local\\Temp\\ipykernel_47808\\774230599.py:18: DataConversionWarning: A column-vector y was passed when a 1d array was expected. Please change the shape of y to (n_samples,), for example using ravel().\n",
      "  model.fit(x_train,y_train)\n"
     ]
    },
    {
     "name": "stdout",
     "output_type": "stream",
     "text": [
      "1\n"
     ]
    },
    {
     "name": "stderr",
     "output_type": "stream",
     "text": [
      "C:\\Users\\sunid\\anaconda3\\Lib\\site-packages\\sklearn\\base.py:439: UserWarning: X does not have valid feature names, but RandomForestClassifier was fitted with feature names\n",
      "  warnings.warn(\n"
     ]
    }
   ],
   "source": [
    "import pandas as pd\n",
    "path=\"C:\\\\Users\\\\sunid\\\\Desktop\\\\hackathon project data set\\\\Sleep_health_and_lifestyle_dataset.csv\"\n",
    "data=pd.read_csv(path)\n",
    "data=data.drop('Person ID',axis=1)\n",
    "data['Gender']=data['Gender'].map({'Male':0,'Female':1})\n",
    "data['Occupation']=data['Occupation'].map({'Software Engineer':0,'Doctor':1,'Sales Representative':2,'Teacher':3,'Nurse':4})\n",
    "data['Sleep Disorder']=data['Sleep Disorder'].map({'None':0,'Sleep Apnea':1,'Insomnia':2,'former':3})\n",
    "data['BMI Category']=data['BMI Category'].map({'Overweight':0,'Normal':1,'Obese':2,'former':3,'Normal Weight':4,})\n",
    "data.Occupation=data.Occupation.fillna(data.Occupation.median())\n",
    "inputs=data.drop('Sleep Disorder',axis=1)\n",
    "outputs=data.drop(['Gender','Age','Occupation','Sleep Duration','Quality of Sleep','Physical Activity Level','Stress Level','BMI Category','Heart Rate','Daily Steps','Systolic Pressure','Diastolic Pressure'],axis=1)\n",
    "import sklearn\n",
    "from sklearn.model_selection import train_test_split\n",
    "x_train,x_test,y_train,y_test=train_test_split(inputs,outputs,test_size=0.2)\n",
    "\n",
    "from sklearn.ensemble import RandomForestClassifier  #randomforest algorithm used\n",
    "model=RandomForestClassifier(n_estimators=300)\n",
    "model.fit(x_train,y_train)\n",
    "\n",
    "y_pred=model.predict(x_test)\n",
    "\n",
    "a=model.predict([[1,59,4.0,8.1,9,75,3,0,68,7000,140,95]])\n",
    "print(a[0])"
   ]
  }
 ],
 "metadata": {
  "kernelspec": {
   "display_name": "Python 3 (ipykernel)",
   "language": "python",
   "name": "python3"
  },
  "language_info": {
   "codemirror_mode": {
    "name": "ipython",
    "version": 3
   },
   "file_extension": ".py",
   "mimetype": "text/x-python",
   "name": "python",
   "nbconvert_exporter": "python",
   "pygments_lexer": "ipython3",
   "version": "3.11.3"
  }
 },
 "nbformat": 4,
 "nbformat_minor": 5
}
